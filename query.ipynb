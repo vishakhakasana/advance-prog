{
 "cells": [
  {
   "cell_type": "code",
   "execution_count": null,
   "id": "adaaed73",
   "metadata": {},
   "outputs": [],
   "source": [
    "create database happy;\n",
    "use happy;\n",
    "create table employee(\n",
    "e_name varchar(20),\n",
    "e_id int ,\n",
    "e_salary int,\n",
    "e_age int,\n",
    "e_gender varchar(20),\n",
    "e_dept varchar(20)\n",
    ");\n",
    "insert into employee values('nishu',3,2000,20,'male','a');\n",
    "insert into employee values('vishu',5,2500,25,'male', 'c');\n",
    "insert into employee values('riya', 7, 3000, 45, 'female','d');\n",
    "insert into employee values('priya',8,3500,50,'female','e');\n",
    "insert into employee values('princy',9,4000,55,'female','f');\n",
    "insert into employee values('kasana',10,4500,60,'female','g');\n",
    "insert into employee values('ishu',12,5000,70,'male','h');\n",
    "select* from employee;\n",
    " \n",
    "\n"
   ]
  }
 ],
 "metadata": {
  "kernelspec": {
   "display_name": "Python 3 (ipykernel)",
   "language": "python",
   "name": "python3"
  },
  "language_info": {
   "codemirror_mode": {
    "name": "ipython",
    "version": 3
   },
   "file_extension": ".py",
   "mimetype": "text/x-python",
   "name": "python",
   "nbconvert_exporter": "python",
   "pygments_lexer": "ipython3",
   "version": "3.9.7"
  }
 },
 "nbformat": 4,
 "nbformat_minor": 5
}
