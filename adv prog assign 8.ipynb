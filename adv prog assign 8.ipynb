{
 "cells": [
  {
   "cell_type": "code",
   "execution_count": null,
   "id": "f1e6f0b7",
   "metadata": {},
   "outputs": [],
   "source": [
    "# Given a sentence as txt, return True if any two adjacent words have this property: One word ends with a vowel, while the word immediately after begins with a vowel (a e i o u).\n",
    "Examples\n",
    "\n",
    "vowel_links(\"a very large appliance\") ➞ True\n",
    "\n",
    "vowel_links(\"go to edabit\") ➞ True\n",
    "\n",
    "vowel_links(\"an open fire\") ➞ False\n",
    "\n",
    "vowel_links(\"a sudden applause\") ➞ False"
   ]
  },
  {
   "cell_type": "code",
   "execution_count": 1,
   "id": "ef0901ff",
   "metadata": {},
   "outputs": [
    {
     "name": "stdout",
     "output_type": "stream",
     "text": [
      "True\n",
      "True\n",
      "False\n",
      "False\n"
     ]
    }
   ],
   "source": [
    "def vowel_links(s):\n",
    "    l = s.split()\n",
    "    for i in range(len(l)-1):\n",
    "        if (l[i][-1] in [\"a\",\"i\",\"e\",\"o\",\"u\"]) and (l[i+1][0] in [\"a\",\"i\",\"e\",\"o\",\"u\"]):\n",
    "            return True\n",
    "    else:\n",
    "        return False\n",
    "        \n",
    "print(vowel_links(\"a very large appliance\"))\n",
    "print(vowel_links(\"go to edabit\"))\n",
    "print(vowel_links(\"an open fire\"))\n",
    "print(vowel_links(\"a sudden applause\"))"
   ]
  },
  {
   "cell_type": "code",
   "execution_count": null,
   "id": "c237189d",
   "metadata": {},
   "outputs": [],
   "source": [
    "# You are given three inputs: a string, one letter, and a second letter.\n",
    "Write a function that returns True if every instance of the first letter occurs before every instance of the second letter.\n",
    "\n",
    "Examples\n",
    "\n",
    "first_before_second(\"a rabbit jumps joyfully\", \"a\", \"j\") ➞ True\n",
    "\n",
    "Every instance of \"a\" occurs before every instance of \"j\".\n",
    "first_before_second(\"knaves knew about waterfalls\", \"k\", \"w\") ➞ True\n",
    "\n",
    "first_before_second(\"happy birthday\", \"a\", \"y\") ➞ False\n",
    "\n",
    "The \"a\" in \"birthday\" occurs after the \"y\" in \"happy\".\n",
    "first_before_second(\"precarious kangaroos\", \"k\", \"a\") ➞ False"
   ]
  },
  {
   "cell_type": "code",
   "execution_count": 2,
   "id": "e7070a4d",
   "metadata": {},
   "outputs": [
    {
     "name": "stdout",
     "output_type": "stream",
     "text": [
      "True\n",
      "True\n",
      "False\n",
      "False\n"
     ]
    }
   ],
   "source": [
    "def first_before_second(s,first_letter,second_letter):\n",
    "    if s.rfind(first_letter) < s.find(second_letter):\n",
    "        return True\n",
    "    else:\n",
    "        return False\n",
    "    \n",
    "print(first_before_second(\"a rabbit jumps joyfully\",\"a\",\"j\"))\n",
    "print(first_before_second(\"knaves knew about waterfalls\", \"k\", \"w\"))\n",
    "print(first_before_second(\"happy birthday\", \"a\", \"y\"))\n",
    "print(first_before_second(\"precarious kangaroos\", \"k\", \"a\"))"
   ]
  },
  {
   "cell_type": "code",
   "execution_count": null,
   "id": "7432d68d",
   "metadata": {},
   "outputs": [],
   "source": [
    "# Create a function that returns the characters from a list or string r on odd or even positions, depending on the specifier s. The specifier will be \"odd\" for items on odd positions (1, 3, 5, ...) and \"even\" for items on even positions (2, 4, 6, ...).\n",
    "Examples\n",
    "\n",
    "char_at_pos([2, 4, 6, 8, 10], \"even\") ➞ [4, 8]\n",
    "\n",
    "4 & 8 occupy the 2nd & 4th positions\n",
    "char_at_pos(\"EDABIT\", \"odd\") ➞ \"EAI\"\n",
    "\n",
    "\"E\", \"A\" and \"I\" occupy the 1st, 3rd and 5th positions\n",
    "char_at_pos([\"A\", \"R\", \"B\", \"I\", \"T\", \"R\", \"A\", \"R\", \"I\", \"L\", \"Y\"], \"odd\") ➞ [\"A\", \"B\", \"T\", \"A\", \"I\", \"Y\"]"
   ]
  },
  {
   "cell_type": "code",
   "execution_count": 3,
   "id": "ff83c9ed",
   "metadata": {},
   "outputs": [
    {
     "name": "stdout",
     "output_type": "stream",
     "text": [
      "[4, 8]\n",
      "['E', 'A', 'I']\n",
      "['A', 'B', 'T', 'A', 'I', 'Y']\n"
     ]
    }
   ],
   "source": [
    "def char_at_pos(l,s):\n",
    "    if s == 'even':\n",
    "        return [l[i] for i in range(len(l)) if (i+1) % 2 == 0]\n",
    "    elif s == 'odd':\n",
    "        return [l[i] for i in range(len(l)) if (i+1) % 2 != 0]\n",
    "\n",
    "print(char_at_pos([2, 4, 6, 8, 10], \"even\"))   \n",
    "print(char_at_pos(\"EDABIT\", \"odd\"))\n",
    "print(char_at_pos([\"A\", \"R\", \"B\", \"I\", \"T\", \"R\", \"A\", \"R\", \"I\", \"L\", \"Y\"], \"odd\"))"
   ]
  },
  {
   "cell_type": "code",
   "execution_count": null,
   "id": "e1cfb18a",
   "metadata": {},
   "outputs": [],
   "source": [
    "# Write a function that returns the greatest common divisor of all list elements. If the greatest common divisor is 1, return 1.\n",
    "Examples\n",
    "\n",
    "GCD([10, 20, 40]) ➞ 10\n",
    "\n",
    "GCD([1, 2, 3, 100]) ➞ 1\n",
    "\n",
    "GCD([1024, 192, 2048, 512]) ➞ 64"
   ]
  },
  {
   "cell_type": "code",
   "execution_count": 4,
   "id": "73440882",
   "metadata": {},
   "outputs": [
    {
     "name": "stdout",
     "output_type": "stream",
     "text": [
      "10\n",
      "1\n",
      "64\n"
     ]
    }
   ],
   "source": [
    "import math \n",
    "\n",
    "def GCD(numbers):\n",
    "    res = numbers[0]\n",
    "    for i in range(1,len(numbers)):\n",
    "        res = math.gcd(numbers[i],res)\n",
    "    return res\n",
    "\n",
    "print(GCD([10, 20, 40]))\n",
    "print(GCD([1, 2, 3, 100]))\n",
    "print(GCD([1024, 192, 2048, 512]))\n"
   ]
  },
  {
   "cell_type": "code",
   "execution_count": null,
   "id": "41e78ad3",
   "metadata": {},
   "outputs": [],
   "source": [
    "# A number/string is a palindrome if the digits/characters are the same when read both forward and backward. Examples include \"racecar\" and 12321. Given a positive number n, check if n or the binary representation of n is palindromic. Return the following:\n",
    "\"Decimal only.\" if only n is a palindrome.\n",
    "\"Binary only.\" if only the binary representation of n is a palindrome.\n",
    "\"Decimal and binary.\" if both are palindromes.\n",
    "\"Neither!\" if neither are palindromes.\n",
    "Examples\n",
    "\n",
    "palindrome_type(1306031) ➞ \"Decimal only.\"\n",
    "\n",
    "decimal = 1306031\n",
    "binary = \"100111110110110101111\"\n",
    "palindrome_type(427787) ➞ \"Binary only.\"\n",
    "\n",
    "decimal = 427787\n",
    "binary = \"1101000011100001011\"\n",
    "palindrome_type(313) ➞ \"Decimal and binary.\"\n",
    "\n",
    "decimal = 313\n",
    "binary = 100111001\n",
    "palindrome_type(934) ➞ \"Neither!\"\n",
    "decimal = 934\n",
    "binary = \"1110100110\""
   ]
  },
  {
   "cell_type": "code",
   "execution_count": 5,
   "id": "460f5169",
   "metadata": {},
   "outputs": [
    {
     "name": "stdout",
     "output_type": "stream",
     "text": [
      "Decimal only\n",
      "Binary only\n",
      "Decimal and binary.\n",
      "Neither!\n"
     ]
    }
   ],
   "source": [
    "def palindrome_type(n):\n",
    "    type1 = '' \n",
    "    if bin(n).lstrip('0b') == bin(n).lstrip('0b')[::-1]:\n",
    "        type1 += \"Binary only\"\n",
    "    if str(n) == str(n)[::-1]:\n",
    "        type1 += \"Decimal only\"\n",
    "    \n",
    "    if type1 == \"Binary onlyDecimal only\":\n",
    "        return  \"Decimal and binary.\"\n",
    "    elif type1 == '':\n",
    "        return \"Neither!\"\n",
    "    else:\n",
    "        return type1\n",
    "    \n",
    "print(palindrome_type(1306031))\n",
    "print(palindrome_type(427787))\n",
    "print(palindrome_type(313))\n",
    "print(palindrome_type(934))"
   ]
  }
 ],
 "metadata": {
  "kernelspec": {
   "display_name": "Python 3 (ipykernel)",
   "language": "python",
   "name": "python3"
  },
  "language_info": {
   "codemirror_mode": {
    "name": "ipython",
    "version": 3
   },
   "file_extension": ".py",
   "mimetype": "text/x-python",
   "name": "python",
   "nbconvert_exporter": "python",
   "pygments_lexer": "ipython3",
   "version": "3.9.7"
  }
 },
 "nbformat": 4,
 "nbformat_minor": 5
}
