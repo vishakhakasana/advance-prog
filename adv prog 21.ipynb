{
 "cells": [
  {
   "cell_type": "code",
   "execution_count": null,
   "id": "40879980",
   "metadata": {},
   "outputs": [],
   "source": [
    "# Given a sentence, return the number of words which have the same first and last letter.\n",
    "Examples\n",
    "\n",
    "count_same_ends(\"Pop! goes the balloon\") ➞ 1\n",
    "\n",
    "count_same_ends(\"And the crowd goes wild!\") ➞ 0\n",
    "\n",
    "count_same_ends(\"No I am not in a gang.\") ➞ 1"
   ]
  },
  {
   "cell_type": "code",
   "execution_count": 1,
   "id": "b1a49068",
   "metadata": {},
   "outputs": [
    {
     "data": {
      "text/plain": [
       "1"
      ]
     },
     "execution_count": 1,
     "metadata": {},
     "output_type": "execute_result"
    }
   ],
   "source": [
    "def only_alpha(string):\n",
    "    new=\"\"\n",
    "    for i in string:\n",
    "        if i.isalpha():\n",
    "            new +=i\n",
    "    return new\n",
    "def count_same_ends(s):\n",
    "    s=s.lower()\n",
    "    s=s.split(\" \")\n",
    "    count=0\n",
    "    s=[only_alpha(i) for i in s]\n",
    "    for i in s:\n",
    "        if i[0]==i[-1]:\n",
    "            if len(i) > 1:\n",
    "                count+=1\n",
    "    return count\n",
    "count_same_ends(\"Pop! goes the balloon\")"
   ]
  },
  {
   "cell_type": "code",
   "execution_count": 2,
   "id": "c37cec44",
   "metadata": {},
   "outputs": [
    {
     "data": {
      "text/plain": [
       "0"
      ]
     },
     "execution_count": 2,
     "metadata": {},
     "output_type": "execute_result"
    }
   ],
   "source": [
    "count_same_ends(\"And the crowd goes wild!\")\n"
   ]
  },
  {
   "cell_type": "code",
   "execution_count": 3,
   "id": "e26fcbeb",
   "metadata": {},
   "outputs": [
    {
     "data": {
      "text/plain": [
       "1"
      ]
     },
     "execution_count": 3,
     "metadata": {},
     "output_type": "execute_result"
    }
   ],
   "source": [
    "count_same_ends(\"No I am not in a gang.\")"
   ]
  },
  {
   "cell_type": "code",
   "execution_count": null,
   "id": "e235d8fa",
   "metadata": {},
   "outputs": [],
   "source": [
    "# The Atbash cipher is an encryption method in which each letter of a word is replaced with its \"mirror\" letter in the alphabet: A <=> Z; B <=> Y; C <=> X; etc. Create a function that takes a string and applies the Atbash cipher to it.\n",
    "Examples\n",
    "\n",
    "atbash(\"apple\") ➞ \"zkkov\"\n",
    "\n",
    "atbash(\"Hello world!\") ➞ \"Svool dliow!\"\n",
    "\n",
    "atbash(\"Christmas is the 25th of December\") ➞ \"Xsirhgnzh rh gsv 25gs lu Wvxvnyvi\""
   ]
  },
  {
   "cell_type": "code",
   "execution_count": 4,
   "id": "d8985ca7",
   "metadata": {},
   "outputs": [
    {
     "data": {
      "text/plain": [
       "'zkkov'"
      ]
     },
     "execution_count": 4,
     "metadata": {},
     "output_type": "execute_result"
    }
   ],
   "source": [
    "def atbash(string):\n",
    "    n = ord('z') + ord('a')\n",
    "    N = ord('A') + ord('Z')\n",
    "    ans=''\n",
    "    string=string.split(\" \")\n",
    "    for s in string:\n",
    "        for i in s:\n",
    "            if i.isalpha(): \n",
    "                if i.isupper():\n",
    "                    ans+=(chr(N-ord(i)))\n",
    "                else:\n",
    "                    ans+=(chr(n-ord(i)))\n",
    "            \n",
    "            else:\n",
    "                ans+=i\n",
    "        ans+=\" \"\n",
    "    ans=ans[:-1]\n",
    "    return ans\n",
    "atbash(\"apple\")"
   ]
  },
  {
   "cell_type": "code",
   "execution_count": 5,
   "id": "e41fa4e0",
   "metadata": {},
   "outputs": [
    {
     "data": {
      "text/plain": [
       "'Svool dliow!'"
      ]
     },
     "execution_count": 5,
     "metadata": {},
     "output_type": "execute_result"
    }
   ],
   "source": [
    "atbash(\"Hello world!\")"
   ]
  },
  {
   "cell_type": "code",
   "execution_count": 6,
   "id": "70c9e2bf",
   "metadata": {},
   "outputs": [
    {
     "data": {
      "text/plain": [
       "'Xsirhgnzh rh gsv 25gs lu Wvxvnyvi'"
      ]
     },
     "execution_count": 6,
     "metadata": {},
     "output_type": "execute_result"
    }
   ],
   "source": [
    "atbash(\"Christmas is the 25th of December\")"
   ]
  },
  {
   "cell_type": "code",
   "execution_count": null,
   "id": "118ead54",
   "metadata": {},
   "outputs": [],
   "source": [
    "# Create a class Employee that will take a full name as argument, as well as a set of none, one or more keywords. Each instance should have a name and a lastname attributes plus one more attribute for each of the keywords, if any.\n",
    "Examples\n",
    "\n",
    "john = Employee(\"John Doe\") mary = Employee(\"Mary Major\", salary=120000) richard = Employee(\"Richard Roe\", salary=110000, height=178) giancarlo = Employee(\"Giancarlo Rossi\", salary=115000, height=182, nationality=\"Italian\")\n",
    "\n",
    "john.name ➞ \"John\" mary.lastname ➞ \"Major\" richard.height ➞ 178 giancarlo.nationality ➞ \"Italian\""
   ]
  },
  {
   "cell_type": "code",
   "execution_count": 7,
   "id": "0d860e5c",
   "metadata": {},
   "outputs": [
    {
     "data": {
      "text/plain": [
       "'John'"
      ]
     },
     "execution_count": 7,
     "metadata": {},
     "output_type": "execute_result"
    }
   ],
   "source": [
    "class Employee:\n",
    "    def __init__(self, full_name, **kwargs):\n",
    "        self.name = full_name.split(' ')[0]\n",
    "        self.lastname = full_name.split(' ')[-1] \n",
    "#         print(kwargs)\n",
    "        for var in kwargs:\n",
    "            if isinstance(kwargs[var], str):\n",
    "                exec(\"self.{0} = '{1}'\".format(var,kwargs[var]))\n",
    "            else:\n",
    "                exec(\"self.{0} = {1}\".format(var,kwargs[var]))\n",
    "john = Employee(\"John Doe\")\n",
    "mary = Employee(\"Mary Major\", salary=120000)\n",
    "richard = Employee(\"Richard Roe\", salary=110000, height=178)\n",
    "giancarlo = Employee(\"Giancarlo Rossi\", salary=115000, height=182, nationality=\"Italian\")\n",
    "john.name"
   ]
  },
  {
   "cell_type": "code",
   "execution_count": 8,
   "id": "154834c0",
   "metadata": {},
   "outputs": [
    {
     "data": {
      "text/plain": [
       "'Major'"
      ]
     },
     "execution_count": 8,
     "metadata": {},
     "output_type": "execute_result"
    }
   ],
   "source": [
    "mary.lastname"
   ]
  },
  {
   "cell_type": "code",
   "execution_count": 9,
   "id": "612ecfa9",
   "metadata": {},
   "outputs": [
    {
     "data": {
      "text/plain": [
       "178"
      ]
     },
     "execution_count": 9,
     "metadata": {},
     "output_type": "execute_result"
    }
   ],
   "source": [
    "richard.height"
   ]
  },
  {
   "cell_type": "code",
   "execution_count": 10,
   "id": "c8893ae0",
   "metadata": {},
   "outputs": [
    {
     "data": {
      "text/plain": [
       "'Italian'"
      ]
     },
     "execution_count": 10,
     "metadata": {},
     "output_type": "execute_result"
    }
   ],
   "source": [
    "giancarlo.nationality"
   ]
  },
  {
   "cell_type": "code",
   "execution_count": null,
   "id": "1c0aa3b1",
   "metadata": {},
   "outputs": [],
   "source": [
    "# Create a function that determines whether each seat can \"see\" the front-stage. A number can \"see\" the front-stage if it is strictly greater than the number before it.\n",
    "Everyone can see the front-stage in the example below:\n",
    "\n",
    "FRONT STAGE [[1, 2, 3, 2, 1, 1], [2, 4, 4, 3, 2, 2], [5, 5, 5, 5, 4, 4], [6, 6, 7, 6, 5, 5]]\n",
    "\n",
    "Starting from the left, the 6 > 5 > 2 > 1, so all numbers can see. 6 > 5 > 4 > 2 - so all numbers can see, etc.\n",
    "\n",
    "Not everyone can see the front-stage in the example below:\n",
    "\n",
    "FRONT STAGE [[1, 2, 3, 2, 1, 1], [2, 4, 4, 3, 2, 2], [5, 5, 5, 10, 4, 4], [6, 6, 7, 6, 5, 5]]\n",
    "\n",
    "The 10 is directly in front of the 6 and blocking its view.\n",
    "\n",
    "The function should return True if every number can see the front-stage, and False if even a single number cannot.\n",
    "\n",
    "Examples\n",
    "\n",
    "can_see_stage([ [1, 2, 3], [4, 5, 6], [7, 8, 9] ]) ➞ True\n",
    "\n",
    "can_see_stage([ [0, 0, 0], [1, 1, 1], [2, 2, 2] ]) ➞ True\n",
    "\n",
    "can_see_stage([ [2, 0, 0], [1, 1, 1], [2, 2, 2] ]) ➞ False\n",
    "\n",
    "can_see_stage([ [1, 0, 0], [1, 1, 1], [2, 2, 2] ]) ➞ False\n",
    "\n",
    "Number must be strictly smaller than the number directly behind it."
   ]
  },
  {
   "cell_type": "code",
   "execution_count": 11,
   "id": "9e79b069",
   "metadata": {},
   "outputs": [
    {
     "data": {
      "text/plain": [
       "True"
      ]
     },
     "execution_count": 11,
     "metadata": {},
     "output_type": "execute_result"
    }
   ],
   "source": [
    "def can_see_stage(mat):\n",
    "    for i in range(len(mat[0])):\n",
    "        new = True\n",
    "        for j in range(len(mat)-1,-1,-1):\n",
    "            if new == True:\n",
    "                max = mat[j][i]\n",
    "                new = False\n",
    "            elif (max<=mat[j][i]):\n",
    "                return False\n",
    "            else:\n",
    "                max = mat[j][i]\n",
    "            if j == 0:\n",
    "                new = True\n",
    "\n",
    "    return True\n",
    "can_see_stage([\n",
    "  [1, 2, 3],\n",
    "  [4, 5, 6],\n",
    "  [7, 8, 9]\n",
    "])"
   ]
  },
  {
   "cell_type": "code",
   "execution_count": 12,
   "id": "586e2fbd",
   "metadata": {},
   "outputs": [
    {
     "data": {
      "text/plain": [
       "True"
      ]
     },
     "execution_count": 12,
     "metadata": {},
     "output_type": "execute_result"
    }
   ],
   "source": [
    "can_see_stage([\n",
    "  [0, 0, 0],\n",
    "  [1, 1, 1],\n",
    "  [2, 2, 2]\n",
    "])"
   ]
  },
  {
   "cell_type": "code",
   "execution_count": 13,
   "id": "8ef89d4e",
   "metadata": {},
   "outputs": [
    {
     "data": {
      "text/plain": [
       "False"
      ]
     },
     "execution_count": 13,
     "metadata": {},
     "output_type": "execute_result"
    }
   ],
   "source": [
    "can_see_stage([\n",
    "  [2, 0, 0], \n",
    "  [1, 1, 1], \n",
    "  [2, 2, 2]\n",
    "])"
   ]
  },
  {
   "cell_type": "code",
   "execution_count": 14,
   "id": "063f68a0",
   "metadata": {},
   "outputs": [
    {
     "data": {
      "text/plain": [
       "False"
      ]
     },
     "execution_count": 14,
     "metadata": {},
     "output_type": "execute_result"
    }
   ],
   "source": [
    "can_see_stage([\n",
    "  [1, 0, 0],\n",
    "  [1, 1, 1],\n",
    "  [2, 2, 2]\n",
    "])\n"
   ]
  },
  {
   "cell_type": "code",
   "execution_count": null,
   "id": "4206eba3",
   "metadata": {},
   "outputs": [],
   "source": [
    "# Create a Pizza class with the attributes order_number and ingredients (which is given as a list). Only the ingredients will be given as input.\n",
    "You should also make it so that its possible to choose a ready made pizza flavour rather than typing out the ingredients manually! As well as creating this Pizza class, hard-code the following pizza flavours.\n",
    "\n",
    "Name Ingredients hawaiian ham, pineapple meat_festival beef, meatball, bacon garden_feast spinach, olives, mushroom\n",
    "\n",
    "Examples\n",
    "\n",
    "p1 = Pizza([\"bacon\", \"parmesan\", \"ham\"]) # order 1 p2 = Pizza.garden_feast() # order 2\n",
    "\n",
    "p1.ingredients ➞ [\"bacon\", \"parmesan\", \"ham\"]\n",
    "\n",
    "p2.ingredients ➞ [\"spinach\", \"olives\", \"mushroom\"]\n",
    "\n",
    "p1.order_number ➞ 1\n",
    "\n",
    "p2.order_number ➞ 2"
   ]
  },
  {
   "cell_type": "code",
   "execution_count": 15,
   "id": "b3817994",
   "metadata": {},
   "outputs": [
    {
     "data": {
      "text/plain": [
       "['bacon', 'parmesan', 'ham']"
      ]
     },
     "execution_count": 15,
     "metadata": {},
     "output_type": "execute_result"
    }
   ],
   "source": [
    "order_number = 0\n",
    "class Pizza:\n",
    "    def __init__(self, *ingrd):\n",
    "        global order_number\n",
    "        order_number += 1\n",
    "        self.order_number = order_number\n",
    "        self.ingredients = ingrd[0]\n",
    "        \n",
    "    @classmethod\n",
    "    def garden_feast(self):\n",
    "        global order_number\n",
    "        order_number += 1\n",
    "        self.order_number = order_number\n",
    "        self.ingredients = [\"spinach\", \"olives\", \"mushroom\"]\n",
    "        return self\n",
    "        \n",
    "    @classmethod\n",
    "    def meat_festival(self):\n",
    "        global order_number\n",
    "        order_number += 1\n",
    "        self.order_number = order_number\n",
    "        self.ingredients = ['beef', 'meatball', 'bacon']\n",
    "        return self\n",
    "    \n",
    "    @classmethod    \n",
    "    def hawaiian(self):\n",
    "        global order_number\n",
    "        order_number += 1\n",
    "        self.order_number = order_number\n",
    "        self.ingredients = ['ham', 'pineapple']\n",
    "        return self\n",
    "p1 = Pizza([\"bacon\", \"parmesan\", \"ham\"])    # order 1\n",
    "p2 = Pizza.garden_feast() \n",
    "p1.ingredients"
   ]
  },
  {
   "cell_type": "code",
   "execution_count": 16,
   "id": "337974e8",
   "metadata": {},
   "outputs": [
    {
     "data": {
      "text/plain": [
       "['spinach', 'olives', 'mushroom']"
      ]
     },
     "execution_count": 16,
     "metadata": {},
     "output_type": "execute_result"
    }
   ],
   "source": [
    "p2.ingredients"
   ]
  },
  {
   "cell_type": "code",
   "execution_count": 17,
   "id": "e2a1ef34",
   "metadata": {},
   "outputs": [
    {
     "data": {
      "text/plain": [
       "1"
      ]
     },
     "execution_count": 17,
     "metadata": {},
     "output_type": "execute_result"
    }
   ],
   "source": [
    "p1.order_number"
   ]
  },
  {
   "cell_type": "code",
   "execution_count": 18,
   "id": "578b8e43",
   "metadata": {},
   "outputs": [
    {
     "data": {
      "text/plain": [
       "2"
      ]
     },
     "execution_count": 18,
     "metadata": {},
     "output_type": "execute_result"
    }
   ],
   "source": [
    "p2.order_number"
   ]
  }
 ],
 "metadata": {
  "kernelspec": {
   "display_name": "Python 3 (ipykernel)",
   "language": "python",
   "name": "python3"
  },
  "language_info": {
   "codemirror_mode": {
    "name": "ipython",
    "version": 3
   },
   "file_extension": ".py",
   "mimetype": "text/x-python",
   "name": "python",
   "nbconvert_exporter": "python",
   "pygments_lexer": "ipython3",
   "version": "3.9.7"
  }
 },
 "nbformat": 4,
 "nbformat_minor": 5
}
